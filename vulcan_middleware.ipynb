{
 "cells": [
  {
   "cell_type": "code",
   "execution_count": 1,
   "id": "b85a89a5",
   "metadata": {},
   "outputs": [],
   "source": [
    "from middleware import signalHandler\n",
    "from middleware.signalHandler import get_new_messages, send_response, convert_envelope, flatten_json\n",
    "from middleware.signalHandler import update_groups\n",
    "\n",
    "import json\n",
    "import time\n",
    "import pandas as pd"
   ]
  },
  {
   "cell_type": "code",
   "execution_count": 2,
   "id": "0fc0a567",
   "metadata": {},
   "outputs": [],
   "source": [
    "import os\n",
    "from dotenv import load_dotenv\n",
    "load_dotenv()\n",
    "\n",
    "\"\"\"\n",
    "This is silly, but the bot is listening to a chat called \"Vulcan's Bar Mitzvah\"...\n",
    "\"\"\"\n",
    "\n",
    "group_barmitzvah = os.getenv('group_barmitzvah')"
   ]
  },
  {
   "cell_type": "code",
   "execution_count": 3,
   "id": "f8b4df7e",
   "metadata": {},
   "outputs": [],
   "source": [
    "from middleware.llmHandler import handle_model_interaction"
   ]
  },
  {
   "cell_type": "code",
   "execution_count": 4,
   "id": "0aef0595",
   "metadata": {},
   "outputs": [],
   "source": [
    "## Handle group updates\n",
    "updated_groups = update_groups()\n",
    "if updated_groups != None:\n",
    "    groupdict = updated_groups\n",
    "#     del updated_groups"
   ]
  },
  {
   "cell_type": "code",
   "execution_count": 5,
   "id": "765e593f",
   "metadata": {},
   "outputs": [],
   "source": [
    "allowed_group_responses = [group_barmitzvah]\n",
    "\n",
    "def messages_for_llm(df):\n",
    "    \"\"\"\n",
    "    Filter messages to just the ones in groups the bot is allowed to respond to.\n",
    "    TODO: Make this more modular\n",
    "    \"\"\"\n",
    "    vulcan_references = df['message'].str.lower().str.contains('vulcan')\n",
    "    permitted_responses = df['thread'].isin(allowed_group_responses)\n",
    "\n",
    "    unique_new_messages = df[vulcan_references & permitted_responses]['message'].unique()\n",
    "    \n",
    "    return unique_new_messages"
   ]
  },
  {
   "cell_type": "code",
   "execution_count": 6,
   "id": "6b445e95",
   "metadata": {},
   "outputs": [],
   "source": [
    "def reply_to_chats(channel):\n",
    "    newmessages = get_new_messages()\n",
    "    if newmessages != []:\n",
    "        converted_new_messages = [convert_envelope(flatten_json(i)) for i in newmessages]\n",
    "\n",
    "        while None in converted_new_messages:\n",
    "            converted_new_messages.remove(None)\n",
    "        if converted_new_messages == []:\n",
    "            pass\n",
    "        df = pd.DataFrame(converted_new_messages)\n",
    "\n",
    "        unique_new_messages = messages_for_llm(df)\n",
    "        if len(unique_new_messages) > 0:\n",
    "            print(f\"\\n\\n------\\n{len(unique_new_messages)} new messages\")\n",
    "            for message in unique_new_messages:\n",
    "                try:\n",
    "                    model_response = handle_model_interaction(message)\n",
    "                    formatted_response = f'>>\"{message}\":\\n\\n{model_response}'\n",
    "                    print(formatted_response)\n",
    "\n",
    "                    send_response(channel, formatted_response)\n",
    "                except:\n",
    "                    print(\"llm failed\")\n",
    "    else:\n",
    "        converted_new_messages = []"
   ]
  },
  {
   "cell_type": "code",
   "execution_count": null,
   "id": "b05c5ff3",
   "metadata": {},
   "outputs": [
    {
     "name": "stdout",
     "output_type": "stream",
     "text": [
      "\n",
      "\n",
      "------\n",
      "1 new messages\n",
      ">>\"Vulcan, what's the deal with airline food?\":\n",
      "\n",
      "Arrrr, ye be wantin' ta know about the grub they be servin' on them flying machines, eh Meatbag? Well, let me tell ye, it be a mighty peculiar thing indeed. They calls 'em \"meals,\" but I be thinkin' they be more like... experiments! Ye see, they be tryin' ta feed us somethin' that'll last fer days, like a space ration or somethin'. And\n"
     ]
    }
   ],
   "source": [
    "while True:\n",
    "    try:\n",
    "        reply_to_chats(group_barmitzvah)\n",
    "    except:\n",
    "        pass\n",
    "    time.sleep(30)"
   ]
  },
  {
   "cell_type": "code",
   "execution_count": null,
   "id": "0a218306",
   "metadata": {},
   "outputs": [],
   "source": []
  },
  {
   "cell_type": "code",
   "execution_count": null,
   "id": "ff4c6fa6",
   "metadata": {},
   "outputs": [],
   "source": []
  },
  {
   "cell_type": "code",
   "execution_count": null,
   "id": "99e26a19",
   "metadata": {},
   "outputs": [],
   "source": []
  },
  {
   "cell_type": "code",
   "execution_count": null,
   "id": "80bf9818",
   "metadata": {},
   "outputs": [],
   "source": []
  }
 ],
 "metadata": {
  "kernelspec": {
   "display_name": "nlp_swifter",
   "language": "python",
   "name": "nlp_swifter"
  },
  "language_info": {
   "codemirror_mode": {
    "name": "ipython",
    "version": 3
   },
   "file_extension": ".py",
   "mimetype": "text/x-python",
   "name": "python",
   "nbconvert_exporter": "python",
   "pygments_lexer": "ipython3",
   "version": "3.10.6"
  }
 },
 "nbformat": 4,
 "nbformat_minor": 5
}
